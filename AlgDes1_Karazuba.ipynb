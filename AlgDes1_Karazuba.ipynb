{
  "nbformat": 4,
  "nbformat_minor": 0,
  "metadata": {
    "colab": {
      "provenance": [],
      "authorship_tag": "ABX9TyNRYrbEGms7b5SQu8QHCHT1",
      "include_colab_link": true
    },
    "kernelspec": {
      "name": "python3",
      "display_name": "Python 3"
    },
    "language_info": {
      "name": "python"
    }
  },
  "cells": [
    {
      "cell_type": "markdown",
      "metadata": {
        "id": "view-in-github",
        "colab_type": "text"
      },
      "source": [
        "<a href=\"https://colab.research.google.com/github/DustinHaschke/AlgDes1_Karazuba/blob/main/AlgDes1_Karazuba.ipynb\" target=\"_parent\"><img src=\"https://colab.research.google.com/assets/colab-badge.svg\" alt=\"Open In Colab\"/></a>"
      ]
    },
    {
      "cell_type": "code",
      "execution_count": null,
      "metadata": {
        "colab": {
          "base_uri": "https://localhost:8080/"
        },
        "id": "6XDjhl4GCmd7",
        "outputId": "59950b63-b70e-4d16-80ce-b93353ada170"
      },
      "outputs": [
        {
          "output_type": "execute_result",
          "data": {
            "text/plain": [
              "[2, 8, 22, 28, 24]"
            ]
          },
          "metadata": {},
          "execution_count": 2
        }
      ],
      "source": [
        "# Eingabe: absteigende Koeffizienten zweier Polynome gleicher Länge n\n",
        "\n",
        "def polymulti(p, q):\n",
        "    n = len(p)-1\n",
        "\n",
        "    if len(p) != len(q):\n",
        "        return(\"Laenge p ungleich Laenge q!\")\n",
        "\n",
        "    # Basisfall: Wenn das Polynom nur einen Koeffizienten hat, einfach multiplizieren\n",
        "    if n == 0:\n",
        "        return [p[0] * q[0]]\n",
        "\n",
        "    else:\n",
        "        m = (n + 2) // 2\n",
        "        r = (n+1) % 2\n",
        "\n",
        "        p1 = p[:m]      # array der Länge aufr(n/2)\n",
        "        p2 = p[m:]      # array d. Länge n//2\n",
        "        q1 = q[:m]\n",
        "        q2 = q[m:]\n",
        "\n",
        "        #erzeuge Arrays der Länge m\n",
        "        p_sum = [0] * m\n",
        "        q_sum = [0] * m\n",
        "\n",
        "\n",
        "        # Korrektur der Länge um eine Schleife zu ermöglichen\n",
        "        if r ==1:\n",
        "            p2.append(0)\n",
        "            q2.append(0)\n",
        "\n",
        "        # p_sum = p1+p2, q_sum = q1+q2\n",
        "        for i in range(m):\n",
        "            p_sum[i] += p1[i] + p2[i]\n",
        "            q_sum[i] += q1[i] + q2[i]\n",
        "\n",
        "        # Entfernen der Zusatzlänge\n",
        "        if r ==1:\n",
        "            p2 = p2[:-1]\n",
        "            q2  = q2[:-1]\n",
        "\n",
        "        # Rekursive Ergebnisse der Polynom-Teile\n",
        "        recur1 = polymulti(p1, q1)\n",
        "        recur2 = polymulti(p2, q2)\n",
        "        recur3 = polymulti(p_sum, q_sum)\n",
        "\n",
        "        # Kombination der Ergebnisse\n",
        "        koeff = [0] * (2 * n + 1)\n",
        "\n",
        "        # Rekursionsergebnisse einpflegen\n",
        "        for i in range(len(recur1)):\n",
        "            koeff[i] += recur1[i]\n",
        "        for i in range(len(recur2)):\n",
        "            koeff[i + 2 * m] += recur2[i]\n",
        "\n",
        "        for i in range(len(recur3)):\n",
        "            koeff[i + m] += recur3[i]\n",
        "        for i in range(len(recur1)):\n",
        "            koeff[i + m] -= recur1[i]\n",
        "        for i in range(len(recur2)):\n",
        "            koeff[i + m] -= recur2[i]\n",
        "\n",
        "        return koeff\n",
        "\n",
        "\n",
        "polymulti([1,2,3],[2,4,8])"
      ]
    }
  ]
}